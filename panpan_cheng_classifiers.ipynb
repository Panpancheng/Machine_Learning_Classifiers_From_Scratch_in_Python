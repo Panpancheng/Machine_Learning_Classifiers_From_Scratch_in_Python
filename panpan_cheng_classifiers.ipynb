{
 "cells": [
  {
   "cell_type": "code",
   "execution_count": 6,
   "metadata": {
    "collapsed": false
   },
   "outputs": [],
   "source": [
    "import numpy as np\n",
    "#import scipy.linalg as SL\n",
    "#import matplotlib.pyplot as plt\n",
    "import pandas as pd\n",
    "from collections import Counter, defaultdict\n",
    "\n",
    "#load train and test data into dataframe\n",
    "x_train = pd.read_csv(\"X_train.csv\", header=None)\n",
    "y_train = pd.read_csv(\"y_train.csv\", header=None)\n",
    "x_test = pd.read_csv(\"X_test.csv\", header=None)\n",
    "y_test = pd.read_csv(\"y_test.csv\", header=None)\n",
    "\n",
    "#x_train = pd.DataFrame.to_dict(x_train)\n",
    "#y_train = y_train.tolist()\n",
    "#x_test = pd.DataFrame.to_dict(x_test)\n",
    "#y_test = pd.DataFrame.to_dict(y_test)"
   ]
  },
  {
   "cell_type": "code",
   "execution_count": 9,
   "metadata": {
    "collapsed": false
   },
   "outputs": [
    {
     "name": "stdout",
     "output_type": "stream",
     "text": [
      "4508\n",
      "0.393966282165\n"
     ]
    }
   ],
   "source": [
    "#calculate pi, as pi = sum(yi)/n\n",
    "n = len(y_train)\n",
    "print n\n",
    "pi = sum(y_train[0]) / float(len(y_train[0]))\n",
    "print pi"
   ]
  },
  {
   "cell_type": "code",
   "execution_count": 28,
   "metadata": {
    "collapsed": false
   },
   "outputs": [],
   "source": [
    "#calculate theta y(1) and theta y(2)\n",
    "#for class y = 1\n",
    "Theta_label1 = []\n",
    "row_indices = np.where(y_train == 1)[0]\n",
    "n_label1 = len(row_indices)\n",
    "X_temp = x_train.loc[row_indices]           #choose the data of one specific label from X\n",
    "for i in range(54):                #calculate theta y(1)\n",
    "    a = sum(X_temp.loc[:,i])  / float(n_label1)  \n",
    "    Theta_label1.append(a)\n",
    "\n",
    "\n",
    "for i in range(54,57):\n",
    "    a = float(n_label1) / sum(np.log(X_temp.loc[:,i]))    #calculate theta y(2)\n",
    "    Theta_label1.append(a)"
   ]
  },
  {
   "cell_type": "code",
   "execution_count": 31,
   "metadata": {
    "collapsed": false
   },
   "outputs": [],
   "source": [
    "#calculate theta y(1) and theta y(2)\n",
    "#for class y = 0\n",
    "Theta_label0 = []\n",
    "row_indices = np.where(y_train == 0)[0]\n",
    "n_label0 = len(row_indices)\n",
    "X_temp_0 = x_train.loc[row_indices]           #choose the data of one specific label from X\n",
    "for i in range(54):                #calculate theta y(1)\n",
    "    a = sum(X_temp_0.loc[:,i])  / float(n_label0)  \n",
    "    Theta_label0.append(a)\n",
    "\n",
    "\n",
    "for i in range(54,57):\n",
    "    a = float(n_label0) / sum(np.log(X_temp_0.loc[:,i]))    #calculate theta y(2)\n",
    "    Theta_label0.append(a)"
   ]
  },
  {
   "cell_type": "code",
   "execution_count": 80,
   "metadata": {
    "collapsed": false
   },
   "outputs": [],
   "source": [
    "#function calculate the prob when y0 is 1\n",
    "n_test = len(y_test)\n",
    "y_prob_1 = []\n",
    "y_prob_0 = []\n",
    "\n",
    "#if suppose y0 = 1\n",
    "for m in range(n_test):\n",
    "    prob = 1\n",
    "    x_instance = x_test.loc[m]\n",
    "    for i in range(57):\n",
    "        if i in range(54):\n",
    "            theta_1 = float(Theta_label1[i])\n",
    "            x0 = float(x_instance[i])\n",
    "            a = theta_1**x0\n",
    "            b = (1-theta_1)**(1-x0)\n",
    "            prob_temp1 = a*b\n",
    "            prob = prob*prob_temp1\n",
    "        else :\n",
    "            theta_2 = float(Theta_label1[i])\n",
    "            x0 = float(x_instance[i])\n",
    "            a = x0**(-(theta_2+1))\n",
    "            prob_temp2 = theta_2*a\n",
    "            prob = prob*prob_temp2\n",
    "    prob = prob*pi\n",
    "    y_prob_1.append(prob)\n",
    "\n",
    "#if suppose y0 = 1\n",
    "for m in range(n_test):\n",
    "    prob = 1\n",
    "    x_instance = x_test.loc[m]\n",
    "    for i in range(57):\n",
    "        if i in range(54):\n",
    "            theta_1 = float(Theta_label0[i])\n",
    "            x0 = float(x_instance[i])\n",
    "            a = theta_1**x0\n",
    "            b = (1-theta_1)**(1-x0)\n",
    "            prob_temp1 = a*b\n",
    "            prob = prob*prob_temp1\n",
    "        else :\n",
    "            theta_2 = Theta_label0[i]\n",
    "            x0 = x_instance[i]\n",
    "            a = x0**(-(theta_2+1))\n",
    "            prob_temp2 = theta_2*a\n",
    "            prob = prob*prob_temp2\n",
    "    prob = prob*(1-pi)\n",
    "    y_prob_0.append(prob)    \n",
    "    "
   ]
  },
  {
   "cell_type": "code",
   "execution_count": 85,
   "metadata": {
    "collapsed": false
   },
   "outputs": [],
   "source": [
    "#predict y0\n",
    "predicted_Y_values = []\n",
    "for i in range(n_test):\n",
    "    if float(y_prob_1[i]) > float(y_prob_0[i]):\n",
    "        predicted_Y_values.append(1)\n",
    "    else:\n",
    "        predicted_Y_values.append(0)"
   ]
  },
  {
   "cell_type": "code",
   "execution_count": 87,
   "metadata": {
    "collapsed": false
   },
   "outputs": [
    {
     "data": {
      "text/html": [
       "<div>\n",
       "<table border=\"1\" class=\"dataframe\">\n",
       "  <thead>\n",
       "    <tr style=\"text-align: right;\">\n",
       "      <th>ground_truth</th>\n",
       "      <th>0</th>\n",
       "      <th>1</th>\n",
       "    </tr>\n",
       "    <tr>\n",
       "      <th>prediction</th>\n",
       "      <th></th>\n",
       "      <th></th>\n",
       "    </tr>\n",
       "  </thead>\n",
       "  <tbody>\n",
       "    <tr>\n",
       "      <th>0</th>\n",
       "      <td>54</td>\n",
       "      <td>5</td>\n",
       "    </tr>\n",
       "    <tr>\n",
       "      <th>1</th>\n",
       "      <td>2</td>\n",
       "      <td>32</td>\n",
       "    </tr>\n",
       "  </tbody>\n",
       "</table>\n",
       "</div>"
      ],
      "text/plain": [
       "ground_truth   0   1\n",
       "prediction          \n",
       "0             54   5\n",
       "1              2  32"
      ]
     },
     "execution_count": 87,
     "metadata": {},
     "output_type": "execute_result"
    }
   ],
   "source": [
    "ground_truth = np.asarray(y_test[0])\n",
    "predicted_Y_values_1 = np.asarray(predicted_Y_values)\n",
    "X = pd.DataFrame({'prediction': predicted_Y_values_1, \n",
    "                  'ground_truth': ground_truth})\n",
    "X['count'] = 1\n",
    "X.groupby(('prediction','ground_truth')).sum().reset_index().pivot('prediction', 'ground_truth', 'count')"
   ]
  },
  {
   "cell_type": "code",
   "execution_count": 88,
   "metadata": {
    "collapsed": false
   },
   "outputs": [
    {
     "name": "stdout",
     "output_type": "stream",
     "text": [
      "93\n"
     ]
    },
    {
     "data": {
      "text/html": [
       "<div>\n",
       "<table border=\"1\" class=\"dataframe\">\n",
       "  <thead>\n",
       "    <tr style=\"text-align: right;\">\n",
       "      <th>ground_truth</th>\n",
       "      <th>0</th>\n",
       "      <th>1</th>\n",
       "    </tr>\n",
       "    <tr>\n",
       "      <th>prediction</th>\n",
       "      <th></th>\n",
       "      <th></th>\n",
       "    </tr>\n",
       "  </thead>\n",
       "  <tbody>\n",
       "    <tr>\n",
       "      <th>0</th>\n",
       "      <td>0.580645</td>\n",
       "      <td>0.053763</td>\n",
       "    </tr>\n",
       "    <tr>\n",
       "      <th>1</th>\n",
       "      <td>0.021505</td>\n",
       "      <td>0.344086</td>\n",
       "    </tr>\n",
       "  </tbody>\n",
       "</table>\n",
       "</div>"
      ],
      "text/plain": [
       "ground_truth         0         1\n",
       "prediction                      \n",
       "0             0.580645  0.053763\n",
       "1             0.021505  0.344086"
      ]
     },
     "execution_count": 88,
     "metadata": {},
     "output_type": "execute_result"
    }
   ],
   "source": [
    "N = len(y_test[0])\n",
    "print N\n",
    "X['count'] = 1\n",
    "X.groupby(('prediction','ground_truth')).sum().reset_index().pivot('prediction', 'ground_truth', 'count') / N "
   ]
  },
  {
   "cell_type": "code",
   "execution_count": 89,
   "metadata": {
    "collapsed": false
   },
   "outputs": [
    {
     "data": {
      "text/plain": [
       "0.924731"
      ]
     },
     "execution_count": 89,
     "metadata": {},
     "output_type": "execute_result"
    }
   ],
   "source": [
    "0.580645 + 0.344086"
   ]
  },
  {
   "cell_type": "code",
   "execution_count": 92,
   "metadata": {
    "collapsed": false
   },
   "outputs": [
    {
     "data": {
      "text/plain": [
       "[0.14860907759882869,\n",
       " 0.099194729136163978,\n",
       " 0.27708638360175697,\n",
       " 0.0029282576866764276,\n",
       " 0.2225475841874085,\n",
       " 0.11530014641288433,\n",
       " 0.015739385065885798,\n",
       " 0.07320644216691069,\n",
       " 0.079428989751098092,\n",
       " 0.1698389458272328,\n",
       " 0.05197657393850659,\n",
       " 0.42569546120058566,\n",
       " 0.11749633967789165,\n",
       " 0.045387994143484628,\n",
       " 0.017935578330893119,\n",
       " 0.091142020497803802,\n",
       " 0.095534407027818444,\n",
       " 0.12481698389458272,\n",
       " 0.58162518301610544,\n",
       " 0.016837481698389459,\n",
       " 0.34187408491947291,\n",
       " 0.0080527086383601759,\n",
       " 0.027452415812591509,\n",
       " 0.019765739385065886,\n",
       " 0.37371888726207908,\n",
       " 0.28184480234260617,\n",
       " 0.2774524158125915,\n",
       " 0.15592972181551976,\n",
       " 0.12920937042459738,\n",
       " 0.16142020497803808,\n",
       " 0.10358711566617862,\n",
       " 0.07320644216691069,\n",
       " 0.12371888726207907,\n",
       " 0.073938506588579797,\n",
       " 0.15775988286969253,\n",
       " 0.17496339677891654,\n",
       " 0.26207906295754024,\n",
       " 0.018301610541727673,\n",
       " 0.11456808199121522,\n",
       " 0.089311859443631042,\n",
       " 0.052708638360175697,\n",
       " 0.11566617862371889,\n",
       " 0.10395314787701318,\n",
       " 0.10029282576866765,\n",
       " 0.29758418740849196,\n",
       " 0.16178623718887261,\n",
       " 0.016105417276720352,\n",
       " 0.067715959004392381,\n",
       " 0.18594436310395315,\n",
       " 0.55124450951683746,\n",
       " 0.14275256222547583,\n",
       " 0.26903367496339675,\n",
       " 0.10468521229868229,\n",
       " 0.08272327964860908]"
      ]
     },
     "execution_count": 92,
     "metadata": {},
     "output_type": "execute_result"
    }
   ],
   "source": [
    "Theta_0_Bern"
   ]
  },
  {
   "cell_type": "code",
   "execution_count": 101,
   "metadata": {
    "collapsed": false
   },
   "outputs": [
    {
     "data": {
      "image/png": "[encoded data removed]",
      "text/plain": [
       "<matplotlib.figure.Figure at 0x117737ed0>"
      ]
     },
     "metadata": {},
     "output_type": "display_data"
    }
   ],
   "source": [
    "#stem plot\n",
    "import matplotlib.pyplot as plt\n",
    "Theta_Bern0 = Theta_label0[:54]\n",
    "Theta_Bern1 = Theta_label1[:54]\n",
    "\n",
    "n = np.linspace(0.1,54,54)\n",
    "markerline_0, stemlines_0, baseline_0 = plt.stem(n, Theta_Bern0, '-.', label='theta_0')\n",
    "plt.setp(stemlines_0, 'color', 'blue','linewidth', 2)\n",
    "\n",
    "markerline_1, stemlines_1, baseline_1 = plt.stem(n, Theta_Bern1, '-o', label='theta_1')\n",
    "plt.setp(stemlines_1, 'color', 'pink', 'linewidth', 2)\n",
    "\n",
    "plt.title(\"Stem Plot\")\n",
    "plt.legend()\n",
    "plt.show()\n"
   ]
  },
  {
   "cell_type": "code",
   "execution_count": 168,
   "metadata": {
    "collapsed": true
   },
   "outputs": [],
   "source": [
    "train_data = pd.concat([x_train, y_train], axis=1)\n",
    "test_data = pd.concat([x_test, y_test], axis=1)"
   ]
  },
  {
   "cell_type": "code",
   "execution_count": 169,
   "metadata": {
    "collapsed": true
   },
   "outputs": [],
   "source": [
    "def directDistance(instance1, instance2, length):\n",
    "    distance = 0\n",
    "    for x in range(length):\n",
    "        distance += abs((instance1[x] - instance2[x]))\n",
    "    return distance"
   ]
  },
  {
   "cell_type": "code",
   "execution_count": 170,
   "metadata": {
    "collapsed": false
   },
   "outputs": [],
   "source": [
    "import operator \n",
    "def getNeighbors(trainingSet, testInstance, k):\n",
    "\tdistances = []\n",
    "\tlength = len(testInstance)-1\n",
    "\tfor x in range(len(trainingSet)):\n",
    "\t\ta = (trainingSet.loc[x]).tolist()\n",
    "\t\tdist = directDistance(testInstance, a, length)\n",
    "\t\tdistances.append((trainingSet.loc[x], dist))\n",
    "\tdistances.sort(key=operator.itemgetter(1))\n",
    "\tneighbors = []\n",
    "\tfor x in range(k):\n",
    "\t\tneighbors.append(distances[x][0])\n",
    "\treturn neighbors"
   ]
  },
  {
   "cell_type": "code",
   "execution_count": 200,
   "metadata": {
    "collapsed": true
   },
   "outputs": [],
   "source": [
    "import operator\n",
    "def getResponse(neighbors):\n",
    "\tclassVotes = {}\n",
    "\tfor x in range(len(neighbors)):\n",
    "\t\tresponse = (neighbors[x]).tolist()[-1]\n",
    "\t\tif response in classVotes:\n",
    "\t\t\tclassVotes[response] += 1\n",
    "\t\telse:\n",
    "\t\t\tclassVotes[response] = 1\n",
    "\tsortedVotes = sorted(classVotes.iteritems(), key=operator.itemgetter(1), reverse=True)\n",
    "\treturn sortedVotes[0][0]"
   ]
  },
  {
   "cell_type": "code",
   "execution_count": 172,
   "metadata": {
    "collapsed": false
   },
   "outputs": [
    {
     "data": {
      "text/plain": [
       "93"
      ]
     },
     "execution_count": 172,
     "metadata": {},
     "output_type": "execute_result"
    }
   ],
   "source": [
    "len(test_data)"
   ]
  },
  {
   "cell_type": "code",
   "execution_count": 173,
   "metadata": {
    "collapsed": false
   },
   "outputs": [
    {
     "name": "stdout",
     "output_type": "stream",
     "text": [
      "93\n"
     ]
    }
   ],
   "source": [
    "k = 1\n",
    "n = len(test_data)\n",
    "neighbors_1 =[]\n",
    "for i in range(n):\n",
    "    a = (test_data.loc[i]).tolist()\n",
    "    neighbors = getNeighbors(train_data, a, k)\n",
    "    neighbors_1.append(neighbors)\n",
    "\n",
    "print len(neighbors_1)\n",
    "\n",
    "response_1 =[]\n",
    "for i in range(n):\n",
    "    response = getResponse(neighbors_1[i])\n",
    "    response_1.append(response)\n",
    "    \n",
    "print len(response_1)"
   ]
  },
  {
   "cell_type": "code",
   "execution_count": 177,
   "metadata": {
    "collapsed": false
   },
   "outputs": [
    {
     "data": {
      "text/html": [
       "<div>\n",
       "<table border=\"1\" class=\"dataframe\">\n",
       "  <thead>\n",
       "    <tr style=\"text-align: right;\">\n",
       "      <th>ground_truth</th>\n",
       "      <th>0</th>\n",
       "      <th>1</th>\n",
       "    </tr>\n",
       "    <tr>\n",
       "      <th>prediction</th>\n",
       "      <th></th>\n",
       "      <th></th>\n",
       "    </tr>\n",
       "  </thead>\n",
       "  <tbody>\n",
       "    <tr>\n",
       "      <th>0</th>\n",
       "      <td>51</td>\n",
       "      <td>5</td>\n",
       "    </tr>\n",
       "    <tr>\n",
       "      <th>1</th>\n",
       "      <td>5</td>\n",
       "      <td>32</td>\n",
       "    </tr>\n",
       "  </tbody>\n",
       "</table>\n",
       "</div>"
      ],
      "text/plain": [
       "ground_truth   0   1\n",
       "prediction          \n",
       "0             51   5\n",
       "1              5  32"
      ]
     },
     "execution_count": 177,
     "metadata": {},
     "output_type": "execute_result"
    }
   ],
   "source": [
    "ground_truth = np.asarray(y_test[0])\n",
    "predicted_Y_values_1 = np.asarray(response_1)\n",
    "X = pd.DataFrame({'prediction': predicted_Y_values_1, \n",
    "                  'ground_truth': ground_truth})\n",
    "X['count'] = 1\n",
    "X.groupby(('prediction','ground_truth')).sum().reset_index().pivot('prediction', 'ground_truth', 'count')"
   ]
  },
  {
   "cell_type": "code",
   "execution_count": 183,
   "metadata": {
    "collapsed": false
   },
   "outputs": [
    {
     "name": "stdout",
     "output_type": "stream",
     "text": [
      "93\n"
     ]
    },
    {
     "data": {
      "text/html": [
       "<div>\n",
       "<table border=\"1\" class=\"dataframe\">\n",
       "  <thead>\n",
       "    <tr style=\"text-align: right;\">\n",
       "      <th>ground_truth</th>\n",
       "      <th>0</th>\n",
       "      <th>1</th>\n",
       "    </tr>\n",
       "    <tr>\n",
       "      <th>prediction</th>\n",
       "      <th></th>\n",
       "      <th></th>\n",
       "    </tr>\n",
       "  </thead>\n",
       "  <tbody>\n",
       "    <tr>\n",
       "      <th>0</th>\n",
       "      <td>0.548387</td>\n",
       "      <td>0.053763</td>\n",
       "    </tr>\n",
       "    <tr>\n",
       "      <th>1</th>\n",
       "      <td>0.053763</td>\n",
       "      <td>0.344086</td>\n",
       "    </tr>\n",
       "  </tbody>\n",
       "</table>\n",
       "</div>"
      ],
      "text/plain": [
       "ground_truth         0         1\n",
       "prediction                      \n",
       "0             0.548387  0.053763\n",
       "1             0.053763  0.344086"
      ]
     },
     "execution_count": 183,
     "metadata": {},
     "output_type": "execute_result"
    }
   ],
   "source": [
    "N = len(y_test[0])\n",
    "print N\n",
    "X['count'] = 1\n",
    "X_perc = X.groupby(('prediction','ground_truth')).sum().reset_index().pivot('prediction', 'ground_truth', 'count') / N\n",
    "X_perc"
   ]
  },
  {
   "cell_type": "code",
   "execution_count": 185,
   "metadata": {
    "collapsed": false
   },
   "outputs": [
    {
     "data": {
      "text/plain": [
       "[0.89247311827956988]"
      ]
     },
     "execution_count": 185,
     "metadata": {},
     "output_type": "execute_result"
    }
   ],
   "source": [
    "predic_accuracy = []\n",
    "accuracy = X_perc[0][0] +X_perc[1][1]\n",
    "predic_accuracy.append(accuracy)\n",
    "predic_accuracy"
   ]
  },
  {
   "cell_type": "code",
   "execution_count": 196,
   "metadata": {
    "collapsed": false
   },
   "outputs": [
    {
     "name": "stdout",
     "output_type": "stream",
     "text": [
      "1\n"
     ]
    }
   ],
   "source": [
    "print len(neighbors_1[0])"
   ]
  },
  {
   "cell_type": "code",
   "execution_count": 186,
   "metadata": {
    "collapsed": false
   },
   "outputs": [
    {
     "name": "stdout",
     "output_type": "stream",
     "text": [
      "93\n",
      "93\n"
     ]
    }
   ],
   "source": [
    "k = 2\n",
    "n = len(test_data)\n",
    "neighbors_2 =[]\n",
    "for i in range(n):\n",
    "    a = (test_data.loc[i]).tolist()\n",
    "    neighbors = getNeighbors(train_data, a, k)\n",
    "    neighbors_2.append(neighbors)\n",
    "\n",
    "print len(neighbors_2[0])\n",
    "\n",
    "response_2 =[]\n",
    "for i in range(n):\n",
    "    response = getResponse(neighbors_2[i])\n",
    "    response_2.append(response)\n",
    "    \n",
    "print len(response_2)"
   ]
  },
  {
   "cell_type": "code",
   "execution_count": 203,
   "metadata": {
    "collapsed": false
   },
   "outputs": [
    {
     "name": "stdout",
     "output_type": "stream",
     "text": [
      "93\n"
     ]
    },
    {
     "data": {
      "text/plain": [
       "0.86021505376344076"
      ]
     },
     "execution_count": 203,
     "metadata": {},
     "output_type": "execute_result"
    }
   ],
   "source": [
    "ground_truth = np.asarray(y_test[0])\n",
    "predicted_Y_values_1 = np.asarray(response_2)\n",
    "X = pd.DataFrame({'prediction': predicted_Y_values_1, \n",
    "                  'ground_truth': ground_truth})\n",
    "X['count'] = 1\n",
    "X.groupby(('prediction','ground_truth')).sum().reset_index().pivot('prediction', 'ground_truth', 'count')\n",
    "\n",
    "N = len(y_test[0])\n",
    "print N\n",
    "X['count'] = 1\n",
    "X_perc = X.groupby(('prediction','ground_truth')).sum().reset_index().pivot('prediction', 'ground_truth', 'count') / N\n",
    "X_perc\n",
    "\n",
    "accuracy = X_perc[0][0] +X_perc[1][1]\n",
    "predic_accuracy.append(accuracy)\n",
    "predic_accuracy"
   ]
  },
  {
   "cell_type": "code",
   "execution_count": 207,
   "metadata": {
    "collapsed": false
   },
   "outputs": [
    {
     "name": "stdout",
     "output_type": "stream",
     "text": [
      "93\n"
     ]
    },
    {
     "data": {
      "text/plain": [
       "[0.89247311827956988, 0.86021505376344076, 0.86021505376344076]"
      ]
     },
     "execution_count": 207,
     "metadata": {},
     "output_type": "execute_result"
    }
   ],
   "source": [
    "ground_truth = np.asarray(y_test[0])\n",
    "predicted_Y_values_1 = np.asarray(response_3)\n",
    "X = pd.DataFrame({'prediction': predicted_Y_values_1, \n",
    "                  'ground_truth': ground_truth})\n",
    "X['count'] = 1\n",
    "X.groupby(('prediction','ground_truth')).sum().reset_index().pivot('prediction', 'ground_truth', 'count')\n",
    "\n",
    "N = len(y_test[0])\n",
    "print N\n",
    "X['count'] = 1\n",
    "X_perc = X.groupby(('prediction','ground_truth')).sum().reset_index().pivot('prediction', 'ground_truth', 'count') / N\n",
    "X_perc\n",
    "\n",
    "accuracy = X_perc[0][0] +X_perc[1][1]\n",
    "predic_accuracy.append(accuracy)\n",
    "predic_accuracy"
   ]
  },
  {
   "cell_type": "code",
   "execution_count": 212,
   "metadata": {
    "collapsed": false
   },
   "outputs": [
    {
     "data": {
      "text/plain": [
       "[0.89247311827956988, 0.86021505376344076, 0.86021505376344076]"
      ]
     },
     "execution_count": 212,
     "metadata": {},
     "output_type": "execute_result"
    }
   ],
   "source": [
    "predic_accuracy"
   ]
  },
  {
   "cell_type": "code",
   "execution_count": 218,
   "metadata": {
    "collapsed": true
   },
   "outputs": [],
   "source": [
    "def k_neighbors(k,testdata,traindata):\n",
    "    n = len(testdata)\n",
    "    neighbors_3 =[]\n",
    "    for i in range(n):\n",
    "        a = (testdata.loc[i]).tolist()\n",
    "        neighbors = getNeighbors(traindata, a, k)\n",
    "        neighbors_3.append(neighbors)\n",
    "    return neighbors_3\n",
    "\n",
    "def k_response(neighbors):\n",
    "    n = len(neighbors)\n",
    "    response_3 =[]\n",
    "    for i in range(n):\n",
    "        response = getResponse(neighbors[i])\n",
    "        response_3.append(response)\n",
    "    return response_3\n",
    "\n",
    "def predi_accuracy(response,testdata):\n",
    "    ground_truth = np.asarray(testdata[0])\n",
    "    predicted_Y_values_1 = np.asarray(response)\n",
    "    X = pd.DataFrame({'prediction': predicted_Y_values_1, \n",
    "                  'ground_truth': ground_truth})\n",
    "    X['count'] = 1\n",
    "    X.groupby(('prediction','ground_truth')).sum().reset_index().pivot('prediction', 'ground_truth', 'count')\n",
    "\n",
    "    N = len(response)\n",
    "    X['count'] = 1\n",
    "    X_perc = X.groupby(('prediction','ground_truth')).sum().reset_index().pivot('prediction', 'ground_truth', 'count') / N\n",
    "    X_perc\n",
    "\n",
    "    accuracy = X_perc[0][0] +X_perc[1][1]\n",
    "    return accuracy\n"
   ]
  },
  {
   "cell_type": "code",
   "execution_count": 214,
   "metadata": {
    "collapsed": false
   },
   "outputs": [
    {
     "name": "stdout",
     "output_type": "stream",
     "text": [
      "4\n"
     ]
    }
   ],
   "source": [
    "neighbors_4 = k_neighbors(4,test_data,train_data)\n",
    "print len(neighbors_4)\n",
    "\n",
    "response_4 = k_response(neighbors_4)\n",
    "print len(response_4)\n",
    "\n",
    "accuracy = predi_accuracy(response_4,y_test)\n",
    "predic_accuracy.append(accuracy)\n",
    "predic_accuracy"
   ]
  },
  {
   "cell_type": "code",
   "execution_count": 222,
   "metadata": {
    "collapsed": false
   },
   "outputs": [
    {
     "name": "stdout",
     "output_type": "stream",
     "text": [
      "93\n",
      "5\n",
      "93\n",
      "[0.89247311827956988, 0.86021505376344076, 0.86021505376344076, 0.90322580645161299, 0.88172043010752688]\n",
      "93\n",
      "6\n",
      "93\n",
      "[0.89247311827956988, 0.86021505376344076, 0.86021505376344076, 0.90322580645161299, 0.88172043010752688, 0.89247311827956977]\n",
      "93\n",
      "7\n",
      "93\n",
      "[0.89247311827956988, 0.86021505376344076, 0.86021505376344076, 0.90322580645161299, 0.88172043010752688, 0.89247311827956977, 0.86021505376344076]\n",
      "93\n",
      "8\n",
      "93\n",
      "[0.89247311827956988, 0.86021505376344076, 0.86021505376344076, 0.90322580645161299, 0.88172043010752688, 0.89247311827956977, 0.86021505376344076, 0.88172043010752676]\n",
      "93\n",
      "9\n",
      "93\n",
      "[0.89247311827956988, 0.86021505376344076, 0.86021505376344076, 0.90322580645161299, 0.88172043010752688, 0.89247311827956977, 0.86021505376344076, 0.88172043010752676, 0.90322580645161288]\n",
      "93\n",
      "10\n",
      "93\n",
      "[0.89247311827956988, 0.86021505376344076, 0.86021505376344076, 0.90322580645161299, 0.88172043010752688, 0.89247311827956977, 0.86021505376344076, 0.88172043010752676, 0.90322580645161288, 0.88172043010752676]\n",
      "93\n",
      "11\n",
      "93\n",
      "[0.89247311827956988, 0.86021505376344076, 0.86021505376344076, 0.90322580645161299, 0.88172043010752688, 0.89247311827956977, 0.86021505376344076, 0.88172043010752676, 0.90322580645161288, 0.88172043010752676, 0.84946236559139776]\n",
      "93\n",
      "12\n",
      "93\n",
      "[0.89247311827956988, 0.86021505376344076, 0.86021505376344076, 0.90322580645161299, 0.88172043010752688, 0.89247311827956977, 0.86021505376344076, 0.88172043010752676, 0.90322580645161288, 0.88172043010752676, 0.84946236559139776, 0.87096774193548376]\n",
      "93\n",
      "13\n",
      "93\n",
      "[0.89247311827956988, 0.86021505376344076, 0.86021505376344076, 0.90322580645161299, 0.88172043010752688, 0.89247311827956977, 0.86021505376344076, 0.88172043010752676, 0.90322580645161288, 0.88172043010752676, 0.84946236559139776, 0.87096774193548376, 0.88172043010752688]\n",
      "93\n",
      "14\n",
      "93\n",
      "[0.89247311827956988, 0.86021505376344076, 0.86021505376344076, 0.90322580645161299, 0.88172043010752688, 0.89247311827956977, 0.86021505376344076, 0.88172043010752676, 0.90322580645161288, 0.88172043010752676, 0.84946236559139776, 0.87096774193548376, 0.88172043010752688, 0.87096774193548376]\n",
      "93\n",
      "15\n",
      "93\n",
      "[0.89247311827956988, 0.86021505376344076, 0.86021505376344076, 0.90322580645161299, 0.88172043010752688, 0.89247311827956977, 0.86021505376344076, 0.88172043010752676, 0.90322580645161288, 0.88172043010752676, 0.84946236559139776, 0.87096774193548376, 0.88172043010752688, 0.87096774193548376, 0.86021505376344076]\n",
      "93\n",
      "16\n",
      "93\n",
      "[0.89247311827956988, 0.86021505376344076, 0.86021505376344076, 0.90322580645161299, 0.88172043010752688, 0.89247311827956977, 0.86021505376344076, 0.88172043010752676, 0.90322580645161288, 0.88172043010752676, 0.84946236559139776, 0.87096774193548376, 0.88172043010752688, 0.87096774193548376, 0.86021505376344076, 0.86021505376344076]\n",
      "93\n",
      "17\n",
      "93\n",
      "[0.89247311827956988, 0.86021505376344076, 0.86021505376344076, 0.90322580645161299, 0.88172043010752688, 0.89247311827956977, 0.86021505376344076, 0.88172043010752676, 0.90322580645161288, 0.88172043010752676, 0.84946236559139776, 0.87096774193548376, 0.88172043010752688, 0.87096774193548376, 0.86021505376344076, 0.86021505376344076, 0.84946236559139787]\n",
      "93\n",
      "18\n",
      "93\n",
      "[0.89247311827956988, 0.86021505376344076, 0.86021505376344076, 0.90322580645161299, 0.88172043010752688, 0.89247311827956977, 0.86021505376344076, 0.88172043010752676, 0.90322580645161288, 0.88172043010752676, 0.84946236559139776, 0.87096774193548376, 0.88172043010752688, 0.87096774193548376, 0.86021505376344076, 0.86021505376344076, 0.84946236559139787, 0.87096774193548376]\n",
      "93\n",
      "19\n",
      "93\n",
      "[0.89247311827956988, 0.86021505376344076, 0.86021505376344076, 0.90322580645161299, 0.88172043010752688, 0.89247311827956977, 0.86021505376344076, 0.88172043010752676, 0.90322580645161288, 0.88172043010752676, 0.84946236559139776, 0.87096774193548376, 0.88172043010752688, 0.87096774193548376, 0.86021505376344076, 0.86021505376344076, 0.84946236559139787, 0.87096774193548376, 0.86021505376344076]\n",
      "93\n",
      "20\n",
      "93\n",
      "[0.89247311827956988, 0.86021505376344076, 0.86021505376344076, 0.90322580645161299, 0.88172043010752688, 0.89247311827956977, 0.86021505376344076, 0.88172043010752676, 0.90322580645161288, 0.88172043010752676, 0.84946236559139776, 0.87096774193548376, 0.88172043010752688, 0.87096774193548376, 0.86021505376344076, 0.86021505376344076, 0.84946236559139787, 0.87096774193548376, 0.86021505376344076, 0.87096774193548376]\n"
     ]
    }
   ],
   "source": [
    "neighbors_5_20 = {}\n",
    "response_5_20 = {}\n",
    "for i in range(5,21):\n",
    "    neighbors_5_20[i] = k_neighbors(i,test_data,train_data)\n",
    "    print len(neighbors_5_20[i])\n",
    "    print len(neighbors_5_20[i][0])\n",
    "\n",
    "    response_5_20[i] = k_response(neighbors_5_20[i])\n",
    "    print len(response_5_20[i])\n",
    "\n",
    "    accuracy = predi_accuracy(response_5_20[i],y_test)\n",
    "    predic_accuracy.append(accuracy)\n",
    "    print predic_accuracy"
   ]
  },
  {
   "cell_type": "code",
   "execution_count": 781,
   "metadata": {
    "collapsed": false
   },
   "outputs": [
    {
     "data": {
      "image/png": "[encoded data removed]",
      "text/plain": [
       "<matplotlib.figure.Figure at 0x11ad80910>"
      ]
     },
     "metadata": {},
     "output_type": "display_data"
    }
   ],
   "source": [
    "import matplotlib.pyplot as plt\n",
    "plt.plot(range(1,21), predic_accuracy, 'ro')\n",
    "plt.axis([0, 20, 0.8, 1])\n",
    "plt.title(\"KNN Predict Aaccuracy with Different K\")\n",
    "plt.show()"
   ]
  },
  {
   "cell_type": "markdown",
   "metadata": {},
   "source": [
    "(D)plot the logistic regression objective training function L per iteration."
   ]
  },
  {
   "cell_type": "code",
   "execution_count": 29,
   "metadata": {
    "collapsed": false
   },
   "outputs": [],
   "source": [
    "import matplotlib.pyplot as plt\n",
    "import pandas as pd\n",
    "import numpy as np\n",
    "import math\n",
    "\n",
    "from collections import Counter, defaultdict\n",
    "\n",
    "#load train and test data into dataframe\n",
    "x_train = pd.read_csv(\"X_train.csv\", header=None)\n",
    "y_train = pd.read_csv(\"y_train.csv\", header=None)\n",
    "x_test = pd.read_csv(\"X_test.csv\", header=None)\n",
    "y_test = pd.read_csv(\"y_test.csv\", header=None)\n",
    "\n",
    "from scipy.special import expit\n",
    "#expit(x_test_log.dot(w0))\n",
    "\n",
    "def add_one_demsnion(X):\n",
    "        bias_col = np.ones((X.shape[0], 1))\n",
    "        return np.concatenate([bias_col, X], axis=1)\n",
    "\n",
    "x_test_log = add_one_demsnion(x_test)\n",
    "x_train_log = add_one_demsnion(x_train)\n",
    "\n",
    "y_train_log = y_train\n",
    "y_test_log = y_test\n",
    "\n",
    "row_indices = np.where(y_train == 0)[0]\n",
    "row_indices_1 = np.where(y_test == 0)[0]\n",
    "\n",
    "y_train_log.loc[row_indices,0] = -1           #change y=0 to y=-1\n",
    "y_test_log.loc[row_indices_1,0] = -1 \n",
    "    \n",
    "#def logistic_func(theta, x):\n",
    "#    return float(1) / (1 + math.e**(-x.dot(theta)))\n",
    "\n",
    "def logistic_regression_objective_1(w, x, y):\n",
    "    x = np.array(x)\n",
    "    xw = np.dot(x,w)\n",
    "    sigma_w = expit(y*xw)\n",
    "    return sigma_w\n",
    "\n"
   ]
  },
  {
   "cell_type": "code",
   "execution_count": 35,
   "metadata": {
    "collapsed": false
   },
   "outputs": [
    {
     "name": "stdout",
     "output_type": "stream",
     "text": [
      "10000\n"
     ]
    }
   ],
   "source": [
    "print len(L_final_test)"
   ]
  },
  {
   "cell_type": "code",
   "execution_count": 30,
   "metadata": {
    "collapsed": false
   },
   "outputs": [],
   "source": [
    "import math\n",
    "wi = np.zeros(x_train_log.shape[1])\n",
    "L_final_test = []\n",
    "for i in range(10000):\n",
    "    aita = float(1) / (10**5)*math.sqrt( i+1 )\n",
    "    n = len(y_train_log)\n",
    "    L = 0\n",
    "    m1 = 0\n",
    "    for i in range(n):\n",
    "        sigma = logistic_regression_objective_1(wi,x_train_log[i],y_train_log[0][i])\n",
    "        m1 = m1 + (1-sigma)*y_train_log[0][i]*x_train_log[i]\n",
    "        if sigma == 0:\n",
    "            #L += sigma \n",
    "            sigma = 0.0001\n",
    "            #L += np.dot(x_train_log[i],wi)\n",
    "            L += np.log(sigma)\n",
    "        else:\n",
    "            L += np.log(sigma)\n",
    "        \n",
    "    \n",
    "    wi = wi + aita*m1\n",
    "    L_final_test.append(L)\n",
    "\n",
    "#print L_final"
   ]
  },
  {
   "cell_type": "code",
   "execution_count": 36,
   "metadata": {
    "collapsed": false
   },
   "outputs": [
    {
     "data": {
      "image/png": "[encoded data removed]",
      "text/plain": [
       "<matplotlib.figure.Figure at 0x1180b6c90>"
      ]
     },
     "metadata": {},
     "output_type": "display_data"
    }
   ],
   "source": [
    "plt.plot(range(1,10001), L_final_test, 'ro')\n",
    "plt.title(\"the logistic regression objective training function L per iteration.\")\n",
    "plt.show()"
   ]
  },
  {
   "cell_type": "markdown",
   "metadata": {},
   "source": [
    "(e) Newton’s method"
   ]
  },
  {
   "cell_type": "code",
   "execution_count": 21,
   "metadata": {
    "collapsed": false
   },
   "outputs": [],
   "source": [
    "import numpy as np\n",
    "#import scipy.linalg as SL\n",
    "#import matplotlib.pyplot as plt\n",
    "import pandas as pd\n",
    "from collections import Counter, defaultdict\n",
    "\n",
    "#load train and test data into dataframe\n",
    "x_train = pd.read_csv(\"X_train.csv\", header=None)\n",
    "y_train = pd.read_csv(\"y_train.csv\", header=None)\n",
    "x_test = pd.read_csv(\"X_test.csv\", header=None)\n",
    "y_test = pd.read_csv(\"y_test.csv\", header=None)\n",
    "\n",
    "#x_train = pd.DataFrame.to_dict(x_train)\n",
    "#y_train = y_train.tolist()\n",
    "#x_test = pd.DataFrame.to_dict(x_test)\n",
    "#y_test = pd.DataFrame.to_dict(y_test)\n",
    "\n",
    "import matplotlib.pyplot as plt\n",
    "import pandas as pd\n",
    "import numpy as np\n",
    "import math\n",
    "\n",
    "from scipy.special import expit\n",
    "#expit(x_test_log.dot(w0))\n",
    "\n",
    "def add_one_demsnion(X):\n",
    "        bias_col = np.ones((X.shape[0], 1))\n",
    "        return np.concatenate([bias_col, X], axis=1)\n",
    "\n",
    "x_test_log = add_one_demsnion(x_test)\n",
    "x_train_log = add_one_demsnion(x_train)\n",
    "\n",
    "y_train_log = y_train\n",
    "y_test_log = y_test\n",
    "\n",
    "row_indices = np.where(y_train == 0)[0]\n",
    "row_indices_1 = np.where(y_test == 0)[0]\n",
    "\n",
    "y_train_log.loc[row_indices,0] = -1           #change y=0 to y=-1\n",
    "y_test_log.loc[row_indices_1,0] = -1 \n",
    "    \n",
    "#def logistic_func(theta, x):\n",
    "#    return float(1) / (1 + math.e**(-x.dot(theta)))\n"
   ]
  },
  {
   "cell_type": "code",
   "execution_count": 22,
   "metadata": {
    "collapsed": false
   },
   "outputs": [],
   "source": [
    "def logistic_regression_objective_1(w, x, y):\n",
    "    x = np.array(x)\n",
    "    xw = np.dot(x,w)\n",
    "    sigma_w = expit(y*xw)\n",
    "    return sigma_w\n",
    "\n",
    "\n",
    "#print L_final\n",
    "import math\n",
    "wi = np.zeros(x_train_log.shape[1])\n",
    "L_final_test_3 = []\n",
    "for i in range(100):\n",
    "    aita = float(1) / math.sqrt( j+1+1 )\n",
    "    n = len(y_train_log)\n",
    "    L = 0\n",
    "    m1 = 0\n",
    "    m2 = 0\n",
    "    for i in range(n):\n",
    "        xi = x_train_log[i,:].reshape(58,1)\n",
    "        sigma = logistic_regression_objective_1(wi,x_train_log[i],y_train_log[0][i])\n",
    "        sigma2 = logistic_regression_objective_1(wi,x_train_log[i],1)\n",
    "        m1 = m1 + (1-sigma)*y_train_log[0][i]*x_train_log[i]\n",
    "        m2 = m2 - sigma2*(1-sigma2)*np.dot(xi, xi.T)\n",
    "        if sigma == 0:\n",
    "            #L += sigma \n",
    "            sigma = 0.0001\n",
    "            #L += np.dot(x_train_log[i],wi)\n",
    "            L += np.log(sigma)\n",
    "        else:\n",
    "            L += np.log(sigma)\n",
    "        \n",
    "    \n",
    "    wi = wi - aita*np.dot(np.linalg.inv(m2),m1)\n",
    "    L_final_test_3.append(L)"
   ]
  },
  {
   "cell_type": "code",
   "execution_count": 23,
   "metadata": {
    "collapsed": false
   },
   "outputs": [
    {
     "data": {
      "image/png": "[encoded data removed]",
      "text/plain": [
       "<matplotlib.figure.Figure at 0x117a89e90>"
      ]
     },
     "metadata": {},
     "output_type": "display_data"
    }
   ],
   "source": [
    "import matplotlib.pyplot as plt\n",
    "#plt.plot(range(1,101), L_final_2, 'ro')\n",
    "plt.plot(range(1,101), L_final_test_3, 'ro')\n",
    "plt.title(\"the training function L of Newton method per iteration\")\n",
    "plt.show()"
   ]
  },
  {
   "cell_type": "code",
   "execution_count": 30,
   "metadata": {
    "collapsed": false
   },
   "outputs": [
    {
     "data": {
      "text/plain": [
       "0"
      ]
     },
     "execution_count": 30,
     "metadata": {},
     "output_type": "execute_result"
    }
   ],
   "source": [
    "y[17]"
   ]
  },
  {
   "cell_type": "code",
   "execution_count": 31,
   "metadata": {
    "collapsed": false,
    "scrolled": false
   },
   "outputs": [
    {
     "name": "stdout",
     "output_type": "stream",
     "text": [
      "[1, -1, 1, 1, 1, -1, 1, 1, 1, 1, -1, 1, 1, 1, 1, 1, 1, 1, 1, 1, 1, 1, -1, 1, 1, 1, 1, 1, 1, 1, 1, 1, 1, -1, -1, 1, 1, -1, -1, -1, -1, -1, -1, -1, -1, -1, -1, -1, -1, -1, -1, -1, -1, -1, -1, -1, -1, -1, -1, -1, -1, -1, -1, -1, -1, -1, -1, -1, -1, -1, 1, -1, -1, -1, -1, -1, -1, -1, -1, -1, -1, -1, -1, -1, -1, -1, -1, 1, -1, -1, -1, -1, -1]\n"
     ]
    }
   ],
   "source": [
    "#predict the test\n",
    "n = len(y_test_log)\n",
    "w = wi\n",
    "y = [0]*n\n",
    "for i in range(n):\n",
    "    xi = x_test_log[i,:]    \n",
    "    xw = np.dot(xi,w)\n",
    "    sigma = expit(xw)\n",
    "    #print sigma\n",
    "    if sigma >= 0.5:\n",
    "        y[i] = 1\n",
    "    else:\n",
    "        y[i] = -1\n",
    "print y   "
   ]
  },
  {
   "cell_type": "code",
   "execution_count": 32,
   "metadata": {
    "collapsed": false
   },
   "outputs": [
    {
     "data": {
      "text/html": [
       "<div>\n",
       "<table border=\"1\" class=\"dataframe\">\n",
       "  <thead>\n",
       "    <tr style=\"text-align: right;\">\n",
       "      <th>ground_truth</th>\n",
       "      <th>-1</th>\n",
       "      <th>1</th>\n",
       "    </tr>\n",
       "    <tr>\n",
       "      <th>prediction</th>\n",
       "      <th></th>\n",
       "      <th></th>\n",
       "    </tr>\n",
       "  </thead>\n",
       "  <tbody>\n",
       "    <tr>\n",
       "      <th>-1</th>\n",
       "      <td>54</td>\n",
       "      <td>6</td>\n",
       "    </tr>\n",
       "    <tr>\n",
       "      <th>1</th>\n",
       "      <td>2</td>\n",
       "      <td>31</td>\n",
       "    </tr>\n",
       "  </tbody>\n",
       "</table>\n",
       "</div>"
      ],
      "text/plain": [
       "ground_truth  -1   1\n",
       "prediction          \n",
       "-1            54   6\n",
       " 1             2  31"
      ]
     },
     "execution_count": 32,
     "metadata": {},
     "output_type": "execute_result"
    }
   ],
   "source": [
    "ground_truth = np.asarray(list(y_test_log[0]))\n",
    "predicted_Y_values_1 = np.asarray(list(y))\n",
    "X = pd.DataFrame({'prediction': predicted_Y_values_1, \n",
    "                  'ground_truth': ground_truth})\n",
    "X['count'] = 1\n",
    "X.groupby(('prediction','ground_truth')).sum().reset_index().pivot('prediction', 'ground_truth', 'count')"
   ]
  },
  {
   "cell_type": "code",
   "execution_count": 33,
   "metadata": {
    "collapsed": false
   },
   "outputs": [
    {
     "name": "stdout",
     "output_type": "stream",
     "text": [
      "93\n"
     ]
    },
    {
     "data": {
      "text/html": [
       "<div>\n",
       "<table border=\"1\" class=\"dataframe\">\n",
       "  <thead>\n",
       "    <tr style=\"text-align: right;\">\n",
       "      <th>ground_truth</th>\n",
       "      <th>-1</th>\n",
       "      <th>1</th>\n",
       "    </tr>\n",
       "    <tr>\n",
       "      <th>prediction</th>\n",
       "      <th></th>\n",
       "      <th></th>\n",
       "    </tr>\n",
       "  </thead>\n",
       "  <tbody>\n",
       "    <tr>\n",
       "      <th>-1</th>\n",
       "      <td>0.580645</td>\n",
       "      <td>0.064516</td>\n",
       "    </tr>\n",
       "    <tr>\n",
       "      <th>1</th>\n",
       "      <td>0.021505</td>\n",
       "      <td>0.333333</td>\n",
       "    </tr>\n",
       "  </tbody>\n",
       "</table>\n",
       "</div>"
      ],
      "text/plain": [
       "ground_truth        -1         1\n",
       "prediction                      \n",
       "-1            0.580645  0.064516\n",
       " 1            0.021505  0.333333"
      ]
     },
     "execution_count": 33,
     "metadata": {},
     "output_type": "execute_result"
    }
   ],
   "source": [
    "N = len(y_test_log[0])\n",
    "print N\n",
    "X['count'] = 1\n",
    "X_perc = X.groupby(('prediction','ground_truth')).sum().reset_index().pivot('prediction', 'ground_truth', 'count') / N\n",
    "X_perc"
   ]
  },
  {
   "cell_type": "code",
   "execution_count": 34,
   "metadata": {
    "collapsed": false
   },
   "outputs": [
    {
     "data": {
      "text/plain": [
       "0.913978"
      ]
     },
     "execution_count": 34,
     "metadata": {},
     "output_type": "execute_result"
    }
   ],
   "source": [
    "0.580645+0.333333"
   ]
  },
  {
   "cell_type": "code",
   "execution_count": 2,
   "metadata": {
    "collapsed": false
   },
   "outputs": [
    {
     "name": "stdout",
     "output_type": "stream",
     "text": [
      "[NbConvertApp] Converting notebook pc2756_hw2.ipynb to script\n",
      "[NbConvertApp] Writing 15133 bytes to pc2756_hw2.py\n"
     ]
    }
   ],
   "source": [
    "!jupyter nbconvert --to script pc2756_hw2.ipynb"
   ]
  }
 ],
 "metadata": {
  "anaconda-cloud": {},
  "kernelspec": {
   "display_name": "Python [default]",
   "language": "python",
   "name": "python2"
  },
  "language_info": {
   "codemirror_mode": {
    "name": "ipython",
    "version": 2
   },
   "file_extension": ".py",
   "mimetype": "text/x-python",
   "name": "python",
   "nbconvert_exporter": "python",
   "pygments_lexer": "ipython2",
   "version": "2.7.12"
  }
 },
 "nbformat": 4,
 "nbformat_minor": 1
}
